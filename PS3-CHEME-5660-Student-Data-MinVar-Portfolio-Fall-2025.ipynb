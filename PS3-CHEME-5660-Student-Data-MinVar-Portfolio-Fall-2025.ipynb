{
 "cells": [
  {
   "cell_type": "markdown",
   "id": "cd066d5c-7d17-4ad9-a2c0-72a932169b27",
   "metadata": {},
   "source": [
    "# PS3: Data-Driven Minimum-Variance Portfolio Allocation for Risky Assets\n",
    "In this problem set, we'll compute the [Efficient Frontier](https://en.wikipedia.org/wiki/Efficient_frontier) for a portfolio of risky assets, where the expected return and the covariance of the returns are calculated from a historical dataset. You will then simulate the performance of the minimum-variance portfolio on out-of-sample data.\n",
    "\n",
    "> __Learning Objectives:__\n",
    "> \n",
    "> By the end of this example, you will be able to:\n",
    "> \n",
    "> * **Compute empirical portfolio statistics from historical data and formulate Markowitz optimization problems.** Extract expected returns and covariance matrices from market data, then set up constrained quadratic optimization problems that minimize portfolio risk for given return targets using the classical mean-variance framework to find optimal asset allocations.\n",
    "> * **Generate and analyze efficient frontier curves for risky asset portfolios.** Systematically compute optimal portfolios across different risk-return combinations and visualize the resulting efficient frontier to understand the trade-offs between expected return and portfolio volatility in the context of diversification benefits.\n",
    "> * **Simulate portfolio performance using multi-asset stochastic models.** Implement geometric Brownian motion simulations to generate sample price trajectories for multiple correlated assets, enabling out-of-sample testing of minimum-variance portfolios against market benchmarks and evaluation of strategy robustness under uncertainty.\n",
    "\n",
    "Let's get started!\n",
    "___"
   ]
  },
  {
   "cell_type": "markdown",
   "id": "c420ed7a-dc00-4183-bdf8-474874e6aa29",
   "metadata": {},
   "source": [
    "## Setup, Data, and Prerequisites\n",
    "First, we set up the computational environment by including the `Include.jl` file and loading any needed resources.\n",
    "\n",
    ">__Include:__ The [`include(...)` command](https://docs.julialang.org/en/v1/base/base/#include) evaluates the contents of the input source file, `Include.jl`, in the notebook's global scope. The `Include.jl` file sets paths, loads required external packages, etc. For additional information on functions and types used in this material, see the [Julia programming language documentation](https://docs.julialang.org/en/v1/). \n",
    "\n",
    "Let's set up our code environment:"
   ]
  },
  {
   "cell_type": "code",
   "execution_count": 171,
   "id": "0dc21749-1f11-4f3d-9821-786449e5a1de",
   "metadata": {
    "tags": []
   },
   "outputs": [],
   "source": [
    "include(joinpath(@__DIR__, \"Include.jl\")); # include the Include.jl file"
   ]
  },
  {
   "cell_type": "markdown",
   "id": "3fad59f4",
   "metadata": {},
   "source": [
    "For additional information on functions and types used in this material, see the [Julia programming language documentation](https://docs.julialang.org/en/v1/) and the [VLQuantitativeFinancePackage.jl documentation](https://github.com/varnerlab/VLQuantitativeFinancePackage.jl). "
   ]
  },
  {
   "cell_type": "markdown",
   "id": "df06e8f9-0a6d-440e-bd76-05e4129882ef",
   "metadata": {},
   "source": [
    "### Data\n",
    "We gathered daily open-high-low-close (OHLC) data for each firm in the [S&P 500](https://en.wikipedia.org/wiki/S%26P_500) from `01-03-2025` until `09-26-2025`, along with data for several exchange-traded funds and volatility products during that time period.\n",
    "\n",
    "Let's load the `original_dataset::DataFrame` by calling [the `MyTestingMarketDataSet()` function](https://varnerlab.github.io/VLQuantitativeFinancePackage.jl/dev/data/#VLQuantitativeFinancePackage.MyTestingMarketDataSet)."
   ]
  },
  {
   "cell_type": "code",
   "execution_count": 172,
   "id": "274c86dc-1d5d-4adf-be13-86a113bbda7a",
   "metadata": {
    "tags": []
   },
   "outputs": [
    {
     "data": {
      "text/plain": [
       "Dict{String, DataFrame} with 482 entries:\n",
       "  \"NI\"   => \u001b[1m182×8 DataFrame\u001b[0m\u001b[0m…\n",
       "  \"EMR\"  => \u001b[1m182×8 DataFrame\u001b[0m\u001b[0m…\n",
       "  \"CTAS\" => \u001b[1m182×8 DataFrame\u001b[0m\u001b[0m…\n",
       "  \"HSIC\" => \u001b[1m182×8 DataFrame\u001b[0m\u001b[0m…\n",
       "  \"KIM\"  => \u001b[1m182×8 DataFrame\u001b[0m\u001b[0m…\n",
       "  \"PLD\"  => \u001b[1m182×8 DataFrame\u001b[0m\u001b[0m…\n",
       "  \"IEX\"  => \u001b[1m182×8 DataFrame\u001b[0m\u001b[0m…\n",
       "  \"BAC\"  => \u001b[1m182×8 DataFrame\u001b[0m\u001b[0m…\n",
       "  \"CBOE\" => \u001b[1m182×8 DataFrame\u001b[0m\u001b[0m…\n",
       "  \"EXR\"  => \u001b[1m182×8 DataFrame\u001b[0m\u001b[0m…\n",
       "  \"NCLH\" => \u001b[1m182×8 DataFrame\u001b[0m\u001b[0m…\n",
       "  \"CVS\"  => \u001b[1m182×8 DataFrame\u001b[0m\u001b[0m…\n",
       "  \"DRI\"  => \u001b[1m182×8 DataFrame\u001b[0m\u001b[0m…\n",
       "  \"DTE\"  => \u001b[1m182×8 DataFrame\u001b[0m\u001b[0m…\n",
       "  \"ZION\" => \u001b[1m182×8 DataFrame\u001b[0m\u001b[0m…\n",
       "  \"AVY\"  => \u001b[1m182×8 DataFrame\u001b[0m\u001b[0m…\n",
       "  \"EW\"   => \u001b[1m182×8 DataFrame\u001b[0m\u001b[0m…\n",
       "  \"EA\"   => \u001b[1m182×8 DataFrame\u001b[0m\u001b[0m…\n",
       "  \"NWSA\" => \u001b[1m182×8 DataFrame\u001b[0m\u001b[0m…\n",
       "  ⋮      => ⋮"
      ]
     },
     "metadata": {},
     "output_type": "display_data"
    }
   ],
   "source": [
    "original_dataset = MyTestingMarketDataSet() |> x-> x[\"dataset\"] # load the original dataset (testing)"
   ]
  },
  {
   "cell_type": "markdown",
   "id": "1a5a5ff1-3df9-4adf-8f2d-4f96146208a1",
   "metadata": {},
   "source": [
    "Not all tickers in our dataset have the maximum number of trading days for various reasons, such as acquisition or delisting events. Let's collect only those tickers with the maximum number of trading days to ensure we have consistent, complete time series for reliable analysis.\n",
    "\n",
    "First, let's compute the number of records for a firm that we know has the maximum value, e.g., `AAPL`, and save that value in the `maximum_number_trading_days::Int64` variable:"
   ]
  },
  {
   "cell_type": "code",
   "execution_count": 173,
   "id": "be27b36f-a5b4-4ae7-a6ab-3749e1477bcd",
   "metadata": {
    "tags": []
   },
   "outputs": [],
   "source": [
    "maximum_number_trading_days = original_dataset[\"AAPL\"] |> nrow;"
   ]
  },
  {
   "cell_type": "markdown",
   "id": "e7a51cbf-e698-4807-9881-724bfbdad23d",
   "metadata": {},
   "source": [
    "Now, let's iterate through our data and collect only tickers with `maximum_number_trading_days` records. Save that data in the `dataset::Dict{String,DataFrame}` variable:"
   ]
  },
  {
   "cell_type": "code",
   "execution_count": 174,
   "id": "011a6c1a-fd8f-44a1-b292-5f171ad6d8c1",
   "metadata": {
    "tags": []
   },
   "outputs": [],
   "source": [
    "dataset = let\n",
    "\n",
    "    # initialize -\n",
    "    dataset = Dict{String, DataFrame}();\n",
    "\n",
    "    # iterate through the dictionary; we can't guarantee a particular order\n",
    "    for (ticker, data) ∈ original_dataset  # we get each (K, V) pair!\n",
    "        if (nrow(data) == maximum_number_trading_days) # check if ticker has maximum trading days\n",
    "            dataset[ticker] = data;\n",
    "        end\n",
    "    end\n",
    "    dataset; # return\n",
    "end;"
   ]
  },
  {
   "cell_type": "markdown",
   "id": "37e9ec27-1dad-4f65-9cb4-651d9cc5edbc",
   "metadata": {},
   "source": [
    "Next, let's get a list of the firms in our cleaned dataset and sort them alphabetically. We store the sorted firm ticker symbols in the `list_of_tickers::Array{String,1}` variable:"
   ]
  },
  {
   "cell_type": "code",
   "execution_count": 175,
   "id": "258aa8bf-f9a7-4b14-a94f-f661e38ab5ab",
   "metadata": {
    "tags": []
   },
   "outputs": [],
   "source": [
    "list_of_tickers = keys(dataset) |> collect |> sort; # list of firm \"ticker\" symbols in alphabetical order"
   ]
  },
  {
   "cell_type": "markdown",
   "id": "d20c9866",
   "metadata": {},
   "source": [
    "Now, let's load the GBM parameters that we computed in the previous example:"
   ]
  },
  {
   "cell_type": "code",
   "execution_count": 176,
   "id": "bd7cf6b1",
   "metadata": {},
   "outputs": [],
   "source": [
    "parameters_df = let\n",
    "\n",
    "    # load -\n",
    "    df = CSV.read(joinpath(_PATH_TO_DATA,\"SAGBM-Parameters-Fall-2025.csv\"), DataFrame);\n",
    "    df; # return\n",
    "end;"
   ]
  },
  {
   "cell_type": "markdown",
   "id": "a5acb794",
   "metadata": {},
   "source": [
    "Next, let's load the covariance matrix that we computed in the previous example:"
   ]
  },
  {
   "cell_type": "code",
   "execution_count": 177,
   "id": "fa04ddcc",
   "metadata": {},
   "outputs": [],
   "source": [
    "covariance_dictionary = let\n",
    "\n",
    "    # initialize -\n",
    "    path_to_covariance = joinpath(_PATH_TO_DATA,\"Covariance-Return-Training-Fall-2025.jld2\");\n",
    "    covariance = JLD2.load(path_to_covariance);\n",
    "    covariance;\n",
    "end;"
   ]
  },
  {
   "cell_type": "markdown",
   "id": "2c60e839",
   "metadata": {},
   "source": [
    "### Constants and Parameters\n",
    "Let's define some constants and parameters that we will use in our simulations. See the comments next to each constant for additional information, including values, units, etc."
   ]
  },
  {
   "cell_type": "code",
   "execution_count": 178,
   "id": "25570d96",
   "metadata": {},
   "outputs": [],
   "source": [
    "Δt = (1.0/252.0); # time step (1 trading day, in years)\n",
    "TSIM = 182; # number of trading days to simulate (1 quarter, in trading days)\n",
    "all_range = range(1,stop=maximum_number_trading_days,step=1) |> collect;\n",
    "startdate = Date(2025,1,1); # start date of simulation\n",
    "risk_free_rate = 0.03815; # benchmark: 10-year T-note 10/03/24\n",
    "total_initial_investment = 1000; # total initial investment amount (USD)"
   ]
  },
  {
   "cell_type": "markdown",
   "id": "5233e763-8d24-496f-af57-4c234e19f7b0",
   "metadata": {},
   "source": [
    "## Task 1: Build the log return array and covariance matrix for a sample portfolio\n",
    "Modern portfolio theory requires two key inputs: expected returns and the covariance structure between assets. In this task, we will extract these statistics from our historical dataset to prepare for optimization.\n",
    "\n",
    "We will compute the expected growth (return) vector (we'll approximate this using the drift vector) and the covariance matrix for the assets in a portfolio composed of $M$ risky assets that we choose. Thus, before we compute the efficient frontier, we must decide which tickers to include in the risky portfolio. \n",
    "\n",
    "> __Ticker picker question:__ Which assets to include in your portfolio may seem like a simple question, but it turns out to be a hard question to answer, and it can have a __significant impact__ on the performance of your portfolio. There are so many interesting threads that we could pull here. But for now, just pick something. \n",
    "\n",
    "Specify a collection of ticker symbols, e.g., `AAPL`, `MSFT`, etc., that interest you in the `my_list_of_tickers::Array{String,1}` array. "
   ]
  },
  {
   "cell_type": "code",
   "execution_count": 179,
   "id": "957286f4-dfd9-4f28-8ae7-b2c75327f786",
   "metadata": {
    "tags": []
   },
   "outputs": [],
   "source": [
    "# TODO: Select at LEAST 3 tickers. We have some random tickers that I selected.\n",
    "# Reminder: Only use tickers that are in the dataset above, and we have parameters for them\n",
    "# If you choose tickers that are not in the dataset, you will get errors!\n",
    "my_list_of_tickers = [\"AAPL\", \"MSFT\", \"INTC\"]; "
   ]
  },
  {
   "cell_type": "markdown",
   "id": "246a3aa2-20c7-41bc-aad7-ddc3384c372f",
   "metadata": {},
   "source": [
    "Now that we have selected the firms in our risky portfolio, we'll compute the firm-specific expected return vector and covariance matrix. We'll store these in the $\\hat{\\mu}$ and $\\hat{\\Sigma}$ variables. "
   ]
  },
  {
   "cell_type": "code",
   "execution_count": 180,
   "id": "9521e2bf-19a1-4f00-b520-2c3b4a80fcdc",
   "metadata": {
    "tags": []
   },
   "outputs": [],
   "source": [
    "μ̂, Σ̂ᵣ = let\n",
    "\n",
    "    # initialize -\n",
    "    M = length(my_list_of_tickers); # number of assets in portfolio\n",
    "    μ = Array{Float64,1}(); # drift vector\n",
    "    Σᵣ = Array{Float64,2}(undef, M, M); # covariance matrix for *our* portfolio\n",
    "    tickers_in_parameters = parameters_df[:, :ticker] |> collect; # list of tickers in parameters_df\n",
    "    covariance_ticker_list = covariance_dictionary[\"list_of_tickers\"] |> collect; # list of tickers in covariance dictionary\n",
    "    Σ = covariance_dictionary[\"covariance_matrix\"]; # full covariance matrix\n",
    "\n",
    "    # compute drift vector -\n",
    "    for ticker ∈ my_list_of_tickers\n",
    "        i = findfirst(x-> x == ticker, tickers_in_parameters); # find index of ticker in the parameters_df\n",
    "        push!(μ, parameters_df[i, :drift]); # append drift value to μ\n",
    "    end\n",
    "\n",
    "    # compute covariance matrix -\n",
    "    for i ∈ 1:M\n",
    "        for j ∈ 1:M\n",
    "            row_index = findfirst(x-> x == my_list_of_tickers[i], covariance_ticker_list); # find row index in full covariance matrix\n",
    "            col_index = findfirst(x-> x == my_list_of_tickers[j], covariance_ticker_list); # find column index in full covariance matrix\n",
    "            Σᵣ[i,j] = Σ[row_index, col_index]; # assign value to Σᵣ\n",
    "        end\n",
    "    end\n",
    "\n",
    "    (μ, Σᵣ); # return\n",
    "end;"
   ]
  },
  {
   "cell_type": "markdown",
   "id": "1eb0a022-5c7c-4240-8361-6bd751034e07",
   "metadata": {
    "tags": []
   },
   "source": [
    "## Task 2: Compute the efficient frontier for your collection of stocks\n",
    "With our expected returns and covariance matrix in hand, we can now solve the classic Markowitz optimization problem. This will give us the set of portfolios that offer the highest expected return for each level of risk.\n",
    "\n",
    "In this task, we'll compute the optimal allocation in the minimum variance sense using the tickers in the `my_list_of_tickers::Array{String,1}` vector.\n",
    "\n",
    "> __What are we going to do?__ Create an instance of the [MyMarkowitzRiskyAssetOnlyPortfolioChoiceProblem type](https://varnerlab.github.io/VLQuantitativeFinancePackage.jl/dev/portfolio/#VLQuantitativeFinancePackage.MyMarkowitzRiskyAssetOnlyPortfolioChoiceProblem), and store this in the `problem_risk` variable using a [custom build(...) method](https://varnerlab.github.io/VLQuantitativeFinancePackage.jl/dev/portfolio/#VLQuantitativeFinancePackage.build-Tuple{Type{MyMarkowitzRiskyAssetOnlyPortfolioChoiceProblem},%20NamedTuple}). You'll need to pass your covariance array $\\hat{\\Sigma}_{r}$, the expected return array $\\hat{\\mu}_{r}$, along with bounds and an initial guess, to the [build(...) method](https://varnerlab.github.io/VLQuantitativeFinancePackage.jl/dev/portfolio/#VLQuantitativeFinancePackage.build-Tuple{Type{MyMarkowitzRiskyAssetOnlyPortfolioChoiceProblem},%20NamedTuple}). Then, we can use the [solve(...) method](https://varnerlab.github.io/VLQuantitativeFinancePackage.jl/dev/portfolio/#VLQuantitativeFinancePackage.solve-Tuple{MyMarkowitzRiskyAssetOnlyPortfolioChoiceProblem}) for different values of the minimum desired return to compute the efficient frontier.\n",
    "\n",
    "First, let's set up the bounds and other parameters required for the computation of the portfolio weights along the efficient frontier:"
   ]
  },
  {
   "cell_type": "code",
   "execution_count": 181,
   "id": "9567321e-4543-4f70-904f-48b33635da7a",
   "metadata": {
    "tags": []
   },
   "outputs": [],
   "source": [
    "number_of_firms = length(my_list_of_tickers); # how many firms do we have\n",
    "wₒ = zeros(number_of_firms) # initial allocation (zeros)\n",
    "wₒ[1] = 1.0; # all money in firm 1\n",
    "bounds = zeros(number_of_firms,2); \n",
    "bounds[:,2] .= 1.0;\n",
    "number_of_points = 201;"
   ]
  },
  {
   "cell_type": "markdown",
   "id": "1d0928d4-e59d-434e-b3c8-2fab88b2d646",
   "metadata": {},
   "source": [
    "Next, let's build an instance of the [MyMarkowitzRiskyAssetOnlyPortfolioChoiceProblem type](https://varnerlab.github.io/VLQuantitativeFinancePackage.jl/dev/portfolio/#VLQuantitativeFinancePackage.MyMarkowitzRiskyAssetOnlyPortfolioChoiceProblem) using the [build(...) method](https://varnerlab.github.io/VLQuantitativeFinancePackage.jl/dev/portfolio/#VLQuantitativeFinancePackage.build-Tuple{Type{MyMarkowitzRiskyAssetOnlyPortfolioChoiceProblem},%20NamedTuple}), passing in the data for the required fields:"
   ]
  },
  {
   "cell_type": "code",
   "execution_count": 182,
   "id": "f10e57f0-d8bc-4d69-b0ad-ca989f69215f",
   "metadata": {
    "tags": []
   },
   "outputs": [],
   "source": [
    "problem_risk = build(MyMarkowitzRiskyAssetOnlyPortfolioChoiceProblem, (\n",
    "    Σ = Σ̂ᵣ, # covariance = risk\n",
    "    μ = μ̂, # drift = return\n",
    "    bounds = bounds, # [0,1]\n",
    "    initial = wₒ, # initial allocation\n",
    "    R = 0.0 # desired return\n",
    "));"
   ]
  },
  {
   "cell_type": "markdown",
   "id": "e5b79d1c-8a2c-4b0e-80ce-765ca5969ea0",
   "metadata": {},
   "source": [
    "Now, create an array holding the minimum desired rewards (the calculation must achieve at least this much reward). We store these values in the `minimum_desired_reward_array` variable. In this example, let's start at `0` and go up to `20`$\\times{r_{f}}$ annualized return using `number_of_points`:"
   ]
  },
  {
   "cell_type": "code",
   "execution_count": 183,
   "id": "5f919feb-a7b7-4b83-bb25-8935b4a2c4a5",
   "metadata": {
    "tags": []
   },
   "outputs": [],
   "source": [
    "# TODO: Uncomment the line below to build the desired return that our portfolio should achieve\n",
    " minimum_desired_reward_array = range(0.0, stop = 20*risk_free_rate, length = number_of_points) |> collect; # R"
   ]
  },
  {
   "cell_type": "markdown",
   "id": "9479d04c",
   "metadata": {},
   "source": [
    "What's in the `minimum_desired_reward_array::Array{Float64,1}` array?"
   ]
  },
  {
   "cell_type": "code",
   "execution_count": 184,
   "id": "ff212a8d",
   "metadata": {},
   "outputs": [
    {
     "data": {
      "text/plain": [
       "201-element Vector{Float64}:\n",
       " 0.0\n",
       " 0.0038150000000000007\n",
       " 0.007630000000000001\n",
       " 0.011445000000000002\n",
       " 0.015260000000000003\n",
       " 0.019075\n",
       " 0.022890000000000004\n",
       " 0.026705000000000003\n",
       " 0.030520000000000005\n",
       " 0.034335000000000004\n",
       " ⋮\n",
       " 0.7324800000000001\n",
       " 0.7362950000000001\n",
       " 0.7401100000000002\n",
       " 0.7439250000000002\n",
       " 0.7477400000000001\n",
       " 0.7515550000000001\n",
       " 0.7553700000000001\n",
       " 0.7591850000000001\n",
       " 0.7630000000000001"
      ]
     },
     "metadata": {},
     "output_type": "display_data"
    }
   ],
   "source": [
    "minimum_desired_reward_array"
   ]
  },
  {
   "cell_type": "markdown",
   "id": "8511c320-7951-47a9-9588-4441e3e73533",
   "metadata": {},
   "source": [
    "We now iterate through the `minimum_desired_reward_array::Array{Float64,1}` and compute the minimum risk required to achieve the specified reward level using a `for-loop`.\n",
    "\n",
    "For each pass through the loop, we:\n",
    "* Update the `problem_risk` variable with the minimum desired reward (set the `R` field). We then pass the updated `problem` object to the [solve(...) method](https://varnerlab.github.io/VLQuantitativeFinancePackage.jl/dev/portfolio/#VLQuantitativeFinancePackage.solve-Tuple{MyMarkowitzRiskyAssetOnlyPortfolioChoiceProblem}) (which initializes and solves the optimization problem). The solution returned from the [solve(...) method](https://varnerlab.github.io/VLQuantitativeFinancePackage.jl/dev/portfolio/#VLQuantitativeFinancePackage.solve-Tuple{MyMarkowitzRiskyAssetOnlyPortfolioChoiceProblem}) is stored in the `solution` dictionary. \n",
    "* We check the `status` of the solution. If the `status` indicates an optimal solution was found, we store that solution in the `efficient_frontier` dictionary. In particular, we store the portfolio risk as the `key` and the expected return, risk and allocation as the `value` in the `efficient_frontier` dictionary.\n",
    "\n",
    "Why the [try-catch environment](https://docs.julialang.org/en/v1/base/base/#try)? The [solve(...) method](https://varnerlab.github.io/VLQuantitativeFinancePackage.jl/dev/portfolio/#VLQuantitativeFinancePackage.solve-Tuple{MyMarkowitzRiskyAssetOnlyPortfolioChoiceProblem}) has an [@assert statement](https://docs.julialang.org/en/v1/base/base/#Base.@assert) to check if the calculation has converged. Thus, the solve method can [throw](https://docs.julialang.org/en/v1/base/base/#Core.throw) an [AssertionError](https://docs.julialang.org/en/v1/base/base/#Core.AssertionError) if the optimization problem fails to converge. To gracefully handle this case, we use a [try-catch construct](https://docs.julialang.org/en/v1/base/base/#try). See the [is_solved_and_feasible method from the JuMP package](https://jump.dev/JuMP.jl/stable/api/JuMP/#JuMP.is_solved_and_feasible) for more information."
   ]
  },
  {
   "cell_type": "code",
   "execution_count": 185,
   "id": "7e4f97bc-9e43-438c-ba7a-a6f2bd41eeda",
   "metadata": {
    "tags": []
   },
   "outputs": [],
   "source": [
    "efficient_frontier = let\n",
    "\n",
    "    # initialize -\n",
    "    efficient_frontier = Dict{Float64, NamedTuple}();\n",
    "\n",
    "    # main loop\n",
    "    for i ∈ eachindex(minimum_desired_reward_array)\n",
    "        problem_risk.R = minimum_desired_reward_array[i]; # update the problem object with the min desired reward value\n",
    "    \n",
    "        try\n",
    "            solution = solve(problem_risk)\n",
    "            status_flag = solution[\"status\"];    \n",
    "\n",
    "            if (status_flag == MathOptInterface.LOCALLY_SOLVED)\n",
    "                risk_value = solution[\"objective_value\"]; # get the sqrt of the risk -\n",
    "                reward_value = solution[\"reward\"];\n",
    "                allocation = solution[\"argmax\"]; # TODO: JV needs to update this key\n",
    "                \n",
    "                \n",
    "                efficient_frontier[risk_value] = (risk = risk_value, reward = reward_value, w = allocation)\n",
    "            end\n",
    "        catch err\n",
    "            # Uncomment to see which R's failed ...\n",
    "            # println(\"Failed: desired R = $(problem_risk.R). Infeasible\");\n",
    "        end    \n",
    "    end\n",
    "    efficient_frontier;\n",
    "end;"
   ]
  },
  {
   "cell_type": "markdown",
   "id": "d3b8db5e",
   "metadata": {},
   "source": [
    "What's in the `efficient_frontier::Dict{Float64,NamedTuple}` dictionary?"
   ]
  },
  {
   "cell_type": "code",
   "execution_count": 186,
   "id": "3d799d21",
   "metadata": {},
   "outputs": [
    {
     "data": {
      "text/plain": [
       "Dict{Float64, NamedTuple} with 47 entries:\n",
       "  0.0379276 => (risk = 0.0379276, reward = 0.205648, w = [0.335831, 0.494188, 0…\n",
       "  0.0379276 => (risk = 0.0379276, reward = 0.205648, w = [0.335831, 0.494187, 0…\n",
       "  0.0379276 => (risk = 0.0379276, reward = 0.205648, w = [0.335831, 0.494188, 0…\n",
       "  0.0379276 => (risk = 0.0379276, reward = 0.205648, w = [0.335831, 0.494188, 0…\n",
       "  0.0379278 => (risk = 0.0379278, reward = 0.206018, w = [0.336339, 0.495259, 0…\n",
       "  0.0379276 => (risk = 0.0379276, reward = 0.205648, w = [0.335831, 0.494187, 0…\n",
       "  0.0381075 => (risk = 0.0381075, reward = 0.217455, w = [0.352066, 0.52843, 0.…\n",
       "  0.0379276 => (risk = 0.0379276, reward = 0.205648, w = [0.335831, 0.494187, 0…\n",
       "  0.0379276 => (risk = 0.0379276, reward = 0.205648, w = [0.335831, 0.494187, 0…\n",
       "  0.03801   => (risk = 0.03801, reward = 0.21364, w = [0.346821, 0.517366, 0.13…\n",
       "  0.0379276 => (risk = 0.0379276, reward = 0.205648, w = [0.335831, 0.494188, 0…\n",
       "  0.0379276 => (risk = 0.0379276, reward = 0.205648, w = [0.335831, 0.494188, 0…\n",
       "  0.0379276 => (risk = 0.0379276, reward = 0.205648, w = [0.335831, 0.494188, 0…\n",
       "  0.0379276 => (risk = 0.0379276, reward = 0.205648, w = [0.335831, 0.494188, 0…\n",
       "  0.0379276 => (risk = 0.0379276, reward = 0.205648, w = [0.335831, 0.494187, 0…\n",
       "  0.0379276 => (risk = 0.0379276, reward = 0.205648, w = [0.335831, 0.494188, 0…\n",
       "  0.0379276 => (risk = 0.0379276, reward = 0.205648, w = [0.335831, 0.494187, 0…\n",
       "  0.0379276 => (risk = 0.0379276, reward = 0.205648, w = [0.335831, 0.494187, 0…\n",
       "  0.0379276 => (risk = 0.0379276, reward = 0.205648, w = [0.335831, 0.494189, 0…\n",
       "  ⋮         => ⋮"
      ]
     },
     "metadata": {},
     "output_type": "display_data"
    }
   ],
   "source": [
    "efficient_frontier"
   ]
  },
  {
   "cell_type": "markdown",
   "id": "ba9cff58",
   "metadata": {},
   "source": [
    "### Organize efficient frontier results into a matrix for analysis and visualization\n",
    "Transform the `efficient_frontier::Dict{Float64,NamedTuple}` dictionary into a matrix format for plotting and analysis.\n",
    "\n",
    "> __What are we doing?__ Extract portfolio data from the `efficient_frontier::Dict{Float64,NamedTuple}` dictionary and organize it into the `results_array::Array{Float64,2}` matrix. Sort portfolios by risk level (small to large) and store risk, return, and allocation weights in matrix columns.\n",
    "\n",
    "> __What's in the results array?__ The `results_array::Array{Float64,2}` has `number_of_portfolios::Int64` rows and `M+2` columns:\n",
    "> * Column 1: Portfolio risk (standard deviation = √variance)  \n",
    "> * Column 2: Portfolio expected return\n",
    "> * Columns 3 to M+2: Asset allocation weights for the `M::Int64` tickers\n",
    "\n",
    "Let's build the `results_array::Array{Float64,2}` from our efficient frontier solutions:"
   ]
  },
  {
   "cell_type": "code",
   "execution_count": 187,
   "id": "290ae087",
   "metadata": {},
   "outputs": [
    {
     "data": {
      "text/plain": [
       "47×5 Matrix{Float64}:\n",
       " 0.19475   0.205648  0.335831  0.494188  0.169982\n",
       " 0.19475   0.205648  0.335831  0.494188  0.169982\n",
       " 0.19475   0.205648  0.335831  0.494188  0.169982\n",
       " 0.19475   0.205648  0.335831  0.494187  0.169982\n",
       " 0.19475   0.205648  0.335831  0.494187  0.169982\n",
       " 0.19475   0.205648  0.335831  0.494187  0.169982\n",
       " 0.19475   0.205648  0.335831  0.494188  0.169982\n",
       " 0.19475   0.205648  0.335831  0.494187  0.169982\n",
       " 0.19475   0.205648  0.335831  0.494187  0.169982\n",
       " 0.19475   0.205648  0.335831  0.494187  0.169982\n",
       " ⋮                                       \n",
       " 0.194962  0.21364   0.346821  0.517366  0.135813\n",
       " 0.195211  0.217455  0.352066  0.52843   0.119504\n",
       " 0.195557  0.22127   0.357312  0.539494  0.103194\n",
       " 0.195998  0.225085  0.362558  0.550558  0.0868835\n",
       " 0.196533  0.2289    0.367804  0.561622  0.0705734\n",
       " 0.197162  0.232715  0.37305   0.572687  0.0542633\n",
       " 0.197884  0.23653   0.378296  0.583751  0.0379533\n",
       " 0.198698  0.240345  0.383542  0.594815  0.0216432\n",
       " 0.199603  0.24416   0.388788  0.605879  0.00533308"
      ]
     },
     "metadata": {},
     "output_type": "display_data"
    }
   ],
   "source": [
    "results_array = let\n",
    "\n",
    "    # initialize -\n",
    "    number_of_portfolios = length(efficient_frontier); # how many portfolios do we have? (these all exited correctly)\n",
    "    M = length(my_list_of_tickers); # how many tickers do we have?\n",
    "    results_array = Array{Float64,2}(undef, number_of_portfolios, M+2);\n",
    "    risk_array_sorted = keys(efficient_frontier) |> collect |> sort;\n",
    "\n",
    "    for i ∈ eachindex(risk_array_sorted)\n",
    "        risk_value = risk_array_sorted[i] |> sqrt; # let's plot the sqrt of the risk\n",
    "        \n",
    "        data = efficient_frontier[risk_array_sorted[i]] # get the NamedTuple corresponding to this risk level\n",
    "        reward_value = data.reward;\n",
    "        w = data.w;\n",
    "\n",
    "        results_array[i,1] = risk_value;\n",
    "        results_array[i,2] = reward_value;\n",
    "        for j ∈ 1:M\n",
    "            results_array[i,2+j] = w[j];\n",
    "        end\n",
    "    end\n",
    "\n",
    "    results_array\n",
    "end"
   ]
  },
  {
   "cell_type": "markdown",
   "id": "39b81fbf-e29c-43c7-b4f3-10d2e134e8a2",
   "metadata": {},
   "source": [
    "### Visualize the efficient frontier\n",
    "Now that we have computed the optimal portfolios, let's visualize the classic risk-return trade-off that Markowitz theory reveals. The efficient frontier shows the boundary of achievable risk-return combinations for our selected assets.\n",
    "\n",
    "`Unhide` the code block below to see how we plotted the efficient frontier for the collection of equities and ETFs specified in the `my_list_of_tickers::Array{String,1}` array."
   ]
  },
  {
   "cell_type": "code",
   "execution_count": 188,
   "id": "2927187b-5db3-4649-b7d6-6b12d645ae53",
   "metadata": {
    "jupyter": {
     "source_hidden": true
    },
    "tags": []
   },
   "outputs": [
    {
     "name": "stdout",
     "output_type": "stream",
     "text": []
    }
   ],
   "source": [
    "let\n",
    "\n",
    "    # initialize -\n",
    "    max_risk_value = results_array[end,1]; # what is the biggest risk we have (x-axis value)\n",
    "    max_reward_value = results_array[end,2]; # what is the biggest reward that we have (y-axis value)\n",
    "    number_of_portfolios = length(efficient_frontier); # how many portfolios did we recover?\n",
    "    skip = 3;\n",
    "\n",
    "    plot(results_array[:,1], results_array[:,2], lw=4, xlabel=\"Risk sqrt(variance)\", \n",
    "        ylabel=\"Portfolio log growth (1/yr)\", fontsize=18, label=\"\", c=:gray20, \n",
    "        xlim=(0.0, 1.1*max_risk_value), ylim = (0.0, 1.1*max_reward_value))\n",
    "    scatter!(results_array[1:skip:number_of_portfolios,1], results_array[1:skip:number_of_portfolios,2], \n",
    "        label=\"Estimated solution\", c=:white, ms=4, msc=:gray69)\n",
    "\n",
    "    plot!(bg=\"gray95\", background_color_outside=\"white\", framestyle = :box, fg_legend = :transparent);\n",
    "end"
   ]
  },
  {
   "cell_type": "code",
   "execution_count": 189,
   "id": "8b3a9fa1",
   "metadata": {},
   "outputs": [],
   "source": [
    "do_I_see_minvar_plot = true; # set to {true | false} if you see the minvar plot (true = yes, false = no)."
   ]
  },
  {
   "cell_type": "markdown",
   "id": "21afb91b",
   "metadata": {},
   "source": [
    "## Task 3: Simulate the performance of the minimum-variance portfolio on out-of-sample data\n",
    "Now that we have computed the efficient frontier and identified the minimum-variance portfolio, we can simulate its performance on out-of-sample data using our multiple asset Geometric Brownian Motion (MAGBM) model. This will help us understand how the portfolio might perform in a real-world scenario. \n",
    "\n",
    "To run this simulation, we need a few things. First, which portfolio are we simulating? Let's choose the minimum-variance portfolio from our efficient frontier results. We'll extract the allocation weights for this portfolio. We'll save these weights in the `w::Array{Float64,1}` array."
   ]
  },
  {
   "cell_type": "code",
   "execution_count": 190,
   "id": "7ae29856",
   "metadata": {},
   "outputs": [],
   "source": [
    "w = let\n",
    "\n",
    "    # initialize -\n",
    "    index_to_view = 1; # TODO: change this index to view different portfolios\n",
    "    w = results_array[index_to_view, 3:end] .|> x-> round(x, digits=4) |> abs; # 3:end gives the allocations\n",
    "    w; # return\n",
    "end;"
   ]
  },
  {
   "cell_type": "markdown",
   "id": "2a67b7cc",
   "metadata": {},
   "source": [
    "\n",
    "### Compute the $\\mathbf{A}$ matrix using Cholesky factorization \n",
    "We need to compute the Cholesky decomposition of the covariance matrix for the assets in our portfolio to run the MAGBM model. This will allow us to generate correlated random variables that reflect the relationships between the asset returns. Let's start there.\n",
    "\n",
    "MAGBM factors the covariance matrix $\\Sigma = \\mathbf{A}\\mathbf{A}^{\\top}$ using a [Cholesky factorization](https://en.wikipedia.org/wiki/Cholesky_decomposition) to get the $a_{ij}$ coefficients which appear in the noise term of the multi-asset geometric Brownian motion expression. We'll use the [Cholesky factorization](https://en.wikipedia.org/wiki/Cholesky_decomposition) routine implemented in the [LinearAlgebra.jl package](https://docs.julialang.org/en/v1/stdlib/LinearAlgebra/), which is part of the [Julia standard library](https://docs.julialang.org/en/v1/).\n",
    "\n",
    "> __What is going on?__ We call the [cholesky function](https://docs.julialang.org/en/v1/stdlib/LinearAlgebra/#LinearAlgebra.cholesky) with the covariance matrix `Σ̂ᵣ` as an argument. This returns the matrix factorization in the [Cholesky type](https://docs.julialang.org/en/v1/stdlib/LinearAlgebra/#LinearAlgebra.Cholesky), which has the `L` and `U` fields, holding the `lower` and `upper` triangular factorizations, respectively. We convert the `lower` triangular factor into a [Matrix type](https://docs.julialang.org/en/v1/base/arrays/#Base.Matrix) so that we can do computations with it later. We store this matrix in the variable $\\mathbf{A}$, where the coefficients $a_{ij}\\in\\mathbf{A}$.\n",
    "\n",
    "So what do we get?"
   ]
  },
  {
   "cell_type": "code",
   "execution_count": 191,
   "id": "514ceffa",
   "metadata": {},
   "outputs": [],
   "source": [
    "A,Ā = let \n",
    "    factors = cholesky(Σ̂ᵣ);\n",
    "    A = factors.L |> x-> Matrix(x)\n",
    "    Ā = diagm(0 => diag(A))\n",
    "    (A, Ā)\n",
    "end;"
   ]
  },
  {
   "cell_type": "markdown",
   "id": "24aa643e",
   "metadata": {},
   "source": [
    "#### Check: Is the Cholesky factorization legit?\n",
    "Before we use the [Cholesky factorization](https://en.wikipedia.org/wiki/Cholesky_decomposition) in our multi-asset simulation, let's check that we can recover the original firm-specific covariance matrix `Σ̂ᵣ`. We know that $\\mathbf{A}\\mathbf{A}^{\\top} = \\Sigma$, so let's compare `Σ̂ᵣ` and the matrix product $\\mathbf{A}\\mathbf{A}^{\\top}$ using the [@assert macro](https://docs.julialang.org/en/v1/base/base/#Base.@assert) in combination with the [isapprox function](https://docs.julialang.org/en/v1/base/math/#Base.isapprox) with `rtol = 1e-6` (or you can choose some other random small value).\n",
    "> __Test__ If the `Σ̂ᵣ` and the matrix product $\\mathbf{A}\\mathbf{A}^{\\top}$ are `NOT` close, i.e., the difference between them is larger than the absolute tolerance `atol` value, the [isapprox function](https://docs.julialang.org/en/v1/base/math/#Base.isapprox) will evaluate to `false` and the [@assert macro](https://docs.julialang.org/en/v1/base/base/#Base.@assert) will throw an [AssertionError](https://docs.julialang.org/en/v1/base/base/#Core.AssertionError). Otherwise, nothing happens (which is good).\n",
    "\n",
    "Did we pass the test? If you did not get an error, then yes!"
   ]
  },
  {
   "cell_type": "code",
   "execution_count": 192,
   "id": "500b0162",
   "metadata": {},
   "outputs": [],
   "source": [
    "@assert isapprox(Σ̂ᵣ, A*transpose(A), atol = 1e-6)"
   ]
  },
  {
   "cell_type": "markdown",
   "id": "6b5c68ef",
   "metadata": {},
   "source": [
    "Next, let's grab the initial prices for the assets in our portfolio from the `dataset::Dict{String,DataFrame}` dictionary. We'll store these initial prices in the `Sₒ::Array{Float64,1}` array."
   ]
  },
  {
   "cell_type": "code",
   "execution_count": 193,
   "id": "be8d7330",
   "metadata": {},
   "outputs": [],
   "source": [
    "Sₒ = let\n",
    "\n",
    "    # initialize -\n",
    "    Sₒ = Array{Float64,1}(); # initial stock prices vector\n",
    "\n",
    "    # TODO: Uncomment the lines below to populate the initial stock prices vector Sₒ\n",
    "    # We iterate throough the list of tickers and get the opening price on day 1\n",
    "    # We use the push! function to append values to the Sₒ array\n",
    "    for ticker ∈ my_list_of_tickers\n",
    "         data = dataset[ticker]; # get the data for the ticker\n",
    "         price = data[1, :open]; # get the first opening price (we buy at the open of day 1)\n",
    "         push!(Sₒ, price); # append to Sₒ\n",
    "     end\n",
    "\n",
    "    \n",
    "    Sₒ; # return\n",
    "end;"
   ]
  },
  {
   "cell_type": "markdown",
   "id": "a31e73bb",
   "metadata": {},
   "source": [
    "How much of each asset do we purchase in our minimum-variance portfolio? We can compute this from the initial investment amount and the allocation weights.\n",
    "\n",
    "> __Initial share calculation:__ The number of shares purchased for each asset in the minimum-variance portfolio is calculated by multiplying the total initial investment budget ($B$) by the allocation weight for each asset, and then dividing by the initial price of that asset, which we denote as $S^{(i)}_{0}$. This gives us the number of shares we can afford to buy with our allocated funds for each asset, or:\n",
    "> $$\n",
    "\\begin{align*}\n",
    "N_i &= \\frac{w_i\\;B}{S^{(i)}_{0}} \\\\\n",
    "\\end{align*}\n",
    "$$ \n",
    "\n",
    "Let's compute the initial number of shares purchased for each asset in our minimum-variance portfolio, we'll store these values in the `Nₒ::Array{Float64,1}` array:"
   ]
  },
  {
   "cell_type": "code",
   "execution_count": 194,
   "id": "6cef2f71",
   "metadata": {},
   "outputs": [],
   "source": [
    "Nₒ = let\n",
    "    \n",
    "    # initialize -\n",
    "    total_budget = total_initial_investment; # total initial investment amount (USD)\n",
    "    Nₒ = Array{Float64,1}()\n",
    "\n",
    "    # TODO: Uncomment the lines below to compute the number of shares for each asset (assuming we can buy fractional shares, and the price is Sₒ)\n",
    "    # We iterate through each weight wᵢ, compute the number of shares nᵢ = (wᵢ * total_budget) / Sₒ[i], and append to Nₒ\n",
    "    for i ∈ eachindex(w)\n",
    "         wᵢ = w[i] # get the weight for asset i\n",
    "         nᵢ = (wᵢ*total_budget)/Sₒ[i]; # compute number of shares for asset i\n",
    "         push!(Nₒ,nᵢ) # append to the Nₒ array\n",
    "    end\n",
    "\n",
    "    Nₒ; # return\n",
    "end;"
   ]
  },
  {
   "cell_type": "markdown",
   "id": "936af8a1",
   "metadata": {},
   "source": [
    "Let's make a table to summarize our initial investment [using the `pretty_table(...)` function exported by the `PrettyTables.jl` package](https://github.com/ronisbr/PrettyTables.jl)."
   ]
  },
  {
   "cell_type": "code",
   "execution_count": 195,
   "id": "8024cb66",
   "metadata": {},
   "outputs": [
    {
     "name": "stdout",
     "output_type": "stream",
     "text": [
      " -------- --------------- -------------- ------------------ ------------------\n",
      " \u001b[1m Ticker \u001b[0m \u001b[1m Initial_Price \u001b[0m \u001b[1m Allocation_w \u001b[0m \u001b[1m Number_of_Shares \u001b[0m \u001b[1m Total_Investment \u001b[0m\n",
      " \u001b[90m String \u001b[0m \u001b[90m       Float64 \u001b[0m \u001b[90m      Float64 \u001b[0m \u001b[90m          Float64 \u001b[0m \u001b[90m          Float64 \u001b[0m\n",
      " -------- --------------- -------------- ------------------ ------------------\n",
      "    AAPL          243.36         0.3358            1.37985              335.8\n",
      "    MSFT          421.08         0.4942            1.17365              494.2\n",
      "    INTC           20.39           0.17            8.33742              170.0\n",
      " -------- --------------- -------------- ------------------ ------------------\n"
     ]
    }
   ],
   "source": [
    "let\n",
    "\n",
    "    # initialize -\n",
    "    total_budget = total_initial_investment; # total initial investment amount (USD)\n",
    "    df = DataFrame();\n",
    "\n",
    "    for (i, ticker) ∈ enumerate(my_list_of_tickers)\n",
    "        Sₒᵢ = Sₒ[i]\n",
    "        wᵢ = w[i]\n",
    "        nᵢ = Nₒ[i]\n",
    "        total_investmentᵢ = wᵢ*total_budget\n",
    "        temp_df = (Ticker = ticker, Initial_Price = Sₒᵢ, Allocation_w = wᵢ, Number_of_Shares = nᵢ, Total_Investment = total_investmentᵢ);\n",
    "        df = push!(df, temp_df);\n",
    "    end\n",
    "\n",
    "    # build a table -\n",
    "    pretty_table(df, backend = :text,\n",
    "         table_format = TextTableFormat(borders = text_table_borders__compact))\n",
    "\n",
    "end"
   ]
  },
  {
   "cell_type": "code",
   "execution_count": 196,
   "id": "a15c7abf",
   "metadata": {},
   "outputs": [],
   "source": [
    "do_I_see_the_ticker_setup_table = true; # set to {true | false} if you see the ticker setup table (true = yes, false = no)."
   ]
  },
  {
   "cell_type": "markdown",
   "id": "bb738ea9",
   "metadata": {},
   "source": [
    "### Run the multi-asset simulation to compute the share price trajectories\n",
    "Building on the single asset case, we construct an instance of [the `MyMultipleAssetGeometricBrownianMotionEquityModel` type](https://varnerlab.github.io/VLQuantitativeFinancePackage.jl/dev/equity/#VLQuantitativeFinancePackage.MyMultipleAssetGeometricBrownianMotionEquityModel), where we pass the drift vector $\\mu$ and the factored covariance matrix $\\mathbf{A}$ into [a `build(...)` method](https://varnerlab.github.io/VLQuantitativeFinancePackage.jl/dev/equity/#VLQuantitativeFinancePackage.build-Tuple{Type{MyMultipleAssetGeometricBrownianMotionEquityModel},%20NamedTuple}):"
   ]
  },
  {
   "cell_type": "code",
   "execution_count": 197,
   "id": "d4c1765b",
   "metadata": {},
   "outputs": [],
   "source": [
    "# TODO: Build the GBM model instance using a build method\n",
    "multiasset_model = build(MyMultipleAssetGeometricBrownianMotionEquityModel, (\n",
    "        μ = μ̂, A = A\n",
    "));;"
   ]
  },
  {
   "cell_type": "markdown",
   "id": "2838b880",
   "metadata": {},
   "source": [
    "Then we pass the start time `T₁`, the stop time `T₂` for the simulation, the initial conditions `Sₒ`, the time step `Δt`, and other simulation parameters along with the `model` instance into the `sample(...)` function. This function computes `number_of_paths` sample paths and returns the simulated data in the `simulation_dictionary` variable.\n",
    "\n",
    "The `simulation_dictionary` data structure holds a simulation array for each sample path, where the simulation array has time in the first column and the simulated price for each asset in columns $2\\dots\\dim\\mathcal{L}$. Each row is a time value; there will be `T+1` rows for each simulation array."
   ]
  },
  {
   "cell_type": "code",
   "execution_count": 198,
   "id": "ab7154d2",
   "metadata": {},
   "outputs": [],
   "source": [
    "simulation_dictionary = let\n",
    "    \n",
    "    # initialize -\n",
    "    start_index = 1;\n",
    "    stop_index = TSIM + start_index - 1;\n",
    "    number_of_trials = 250; # number of sample paths to compute\n",
    "\n",
    "    # specify the time range -\n",
    "    T₁ = start_index*Δt # start time (in years)\n",
    "    T₂ = stop_index*Δt # end time (in years)\n",
    "\n",
    "    # run the simulation -\n",
    "    simulation_dictionary = VLQuantitativeFinancePackage.sample(multiasset_model, (Sₒ = Sₒ, T₁ = T₁, T₂ = T₂, Δt = Δt), \n",
    "        number_of_paths = number_of_trials);\n",
    "\n",
    "    simulation_dictionary; # return \n",
    "end;"
   ]
  },
  {
   "cell_type": "markdown",
   "id": "a152b69e",
   "metadata": {},
   "source": [
    "#### Compute the simulated wealth of portfolio $\\mathcal{P}$ given our allocation\n",
    "`Unhide` the code block below to see how we computed the __simulated wealth__ of the portfolio $\\mathcal{P}$ for the allocation specified above. We store the simulation data in the `simulated_wealth_array::Array{Float64,2}` variable.\n",
    "\n",
    "> __What's in the simulated wealth array?__ Each column in the `simulated_wealth_array` corresponds to a sample path from the multi-asset GBM simulation. Each row corresponds to a time value. The entries in the array are the total wealth of the portfolio $\\mathcal{P}$ at each time for each sample path.\n",
    "\n",
    "Let's compute the simulated wealth of our portfolio $\\mathcal{P}$."
   ]
  },
  {
   "cell_type": "code",
   "execution_count": 199,
   "id": "6b324452",
   "metadata": {},
   "outputs": [],
   "source": [
    "simulated_wealth_array = let\n",
    "\n",
    "    # initialize -\n",
    "    number_of_trials = length(simulation_dictionary) # number of trials\n",
    "    number_of_days = simulation_dictionary[1] |> m -> size(m,1) # number of days in each trial\n",
    "    M = length(my_list_of_tickers); # number of assets in portfolio\n",
    "    simulated_wealth_array = Array{Float64,2}(undef, number_of_days, number_of_trials);\n",
    "   \n",
    "    # compute the wealth for each trial \n",
    "    for i ∈ 1:number_of_trials\n",
    "        \n",
    "        simulation_array = simulation_dictionary[i]\n",
    "        \n",
    "        portfolio_performance_array = Array{Float64,2}(undef, number_of_days, M+1)\n",
    "        for j ∈ eachindex(my_list_of_tickers)\n",
    "        \n",
    "            ticker = my_list_of_tickers[j];\n",
    "            price_data = simulation_array[:,j+1];\n",
    "            nⱼ = Nₒ[j]\n",
    "        \n",
    "            for k ∈ 1:number_of_days\n",
    "                portfolio_performance_array[k,j] = nⱼ*price_data[k];\n",
    "            end\n",
    "        end\n",
    "    \n",
    "        # total -\n",
    "        for j ∈ 1:number_of_days\n",
    "            portfolio_performance_array[j,end] = sum(portfolio_performance_array[j,1:end-1])\n",
    "        end\n",
    "        \n",
    "        # wealth -\n",
    "        for j ∈ 1:number_of_days\n",
    "            simulated_wealth_array[j,i] = portfolio_performance_array[j,end];\n",
    "        end\n",
    "    end\n",
    "    simulated_wealth_array;\n",
    "end;"
   ]
  },
  {
   "cell_type": "markdown",
   "id": "2cc3919c",
   "metadata": {},
   "source": [
    "#### Compute the __actual wealth__ of portfolio $\\mathcal{P}$ given our allocation\n",
    "`Unhide` the code block below to see how we computed the __actual wealth__ of the portfolio $\\mathcal{P}$ for the allocation specified above. We store the simulation data in the `actual_portfolio_performance_array::Array{Float64,2}` variable.\n",
    "\n",
    "> __What's in the actual wealth array?__ Each row in the `actual_portfolio_performance_array` corresponds to a time value. The entries in the array are the total wealth of the portfolio $\\mathcal{P}$ at each time for the actual market data.\n",
    "\n",
    "Let's compute the actual wealth of our portfolio $\\mathcal{P}$."
   ]
  },
  {
   "cell_type": "code",
   "execution_count": 200,
   "id": "6f0305f8",
   "metadata": {},
   "outputs": [],
   "source": [
    "actual_portfolio_performance_array = let\n",
    "\n",
    "\n",
    "    # initialize -\n",
    "    number_of_trials = length(simulation_dictionary) # number of trials\n",
    "    number_of_days = simulation_dictionary[1] |> m -> size(m,1) # number of days in each trial\n",
    "    M = length(my_list_of_tickers); # number of assets in portfolio\n",
    "    actual_portfolio_performance_array = Array{Float64,2}(undef, number_of_days, M+1)\n",
    "    \n",
    "    # compute the wealth for each trial\n",
    "    for i ∈ eachindex(my_list_of_tickers)\n",
    "        \n",
    "        ticker = my_list_of_tickers[i];\n",
    "        price_df = dataset[ticker];\n",
    "        ticker_data = filter(:timestamp => x-> x >= startdate, price_df)\n",
    "        nᵢ = Nₒ[i]\n",
    "        \n",
    "        for j ∈ 1:number_of_days\n",
    "            actual_portfolio_performance_array[j,i] = nᵢ*ticker_data[j,:volume_weighted_average_price];\n",
    "        end\n",
    "    end\n",
    "    \n",
    "    # total -\n",
    "    for i ∈ 1:number_of_days\n",
    "        actual_portfolio_performance_array[i,end] = sum(actual_portfolio_performance_array[i,1:end-1])\n",
    "    end\n",
    "    actual_portfolio_performance_array;\n",
    "end;"
   ]
  },
  {
   "cell_type": "markdown",
   "id": "54aa3966",
   "metadata": {},
   "source": [
    "### Compute the wealth of an index portfolio\n",
    "An alternative to building a portfolio of risky assets is to invest in an index fund that tracks a market index, such as the S&P 500. Let's use the [SPY ETF](https://en.wikipedia.org/wiki/SPDR_S%26P_500) as a proxy for the S&P 500 index, and compute our wealth if we had invested our entire `total_budget` in the SPY ETF at the start of our investment period.\n",
    "\n",
    "> __What's in the benchmark wealth array?__ The `benchmark_wealth_array` is a one-dimensional array where each entry corresponds to the total wealth of the benchmark portfolio (SPY ETF) at each time value during the investment period. Here we are assuming we invested our entire `total_budget` in the SPY ETF at the start of the investment period.\n",
    "\n",
    "Let's compute the benchmark wealth array."
   ]
  },
  {
   "cell_type": "code",
   "execution_count": 201,
   "id": "77bfffab",
   "metadata": {},
   "outputs": [],
   "source": [
    "benchmark_wealth_array = let\n",
    "\n",
    "    # initialize -\n",
    "    total_budget = total_initial_investment; # total initial investment amount (USD)\n",
    "    spy_data = dataset[\"SPY\"];\n",
    "    spy_data = filter(:timestamp => x-> x >= startdate, spy_data)\n",
    "    number_of_days = size(spy_data,1)\n",
    "    benchmark_wealth_array = Array{Float64,2}(undef, number_of_days, 1)\n",
    "\n",
    "    # compute the wealth -\n",
    "    for i ∈ 1:number_of_days\n",
    "        benchmark_wealth_array[i,1] = (total_budget/spy_data[1,:open])*spy_data[i,:volume_weighted_average_price];\n",
    "    end\n",
    "    benchmark_wealth_array;\n",
    "end;"
   ]
  },
  {
   "cell_type": "markdown",
   "id": "5d40b911",
   "metadata": {},
   "source": [
    "### Visualize simulated, actual and benchmark wealth arrays\n",
    "`Unhide` the code block below to see how we plotted the performance of the __simulated__ and __actual__ portfolio $\\mathcal{P}$ with our allocation $\\mathbf{w}$, along with the benchmark performance of the SPY ETF."
   ]
  },
  {
   "cell_type": "code",
   "execution_count": 202,
   "id": "faff302a",
   "metadata": {},
   "outputs": [
    {
     "name": "stdout",
     "output_type": "stream",
     "text": []
    }
   ],
   "source": [
    "let\n",
    "\n",
    "    # initialize -\n",
    "    total_budget = total_initial_investment; # total initial investment amount (USD)\n",
    "    number_of_trials = length(simulation_dictionary) # number of trials\n",
    "    p = plot(); # initialize an empty plot\n",
    "    \n",
    "    # plot the trajectories -\n",
    "    for i ∈ 1:number_of_trials\n",
    "        plot!((1/total_budget)*simulated_wealth_array[:,i], c=:gray86,lw=1, label=\"\")\n",
    "    end\n",
    "    \n",
    "    # compute the expected wealth array, and bounds 0\n",
    "    expected_wealth_array = mean(simulated_wealth_array,dims=2)\n",
    "    L68 = (1/total_budget)*(expected_wealth_array .- std(simulated_wealth_array,dims=2))\n",
    "    U68 = (1/total_budget)*(expected_wealth_array .+ std(simulated_wealth_array,dims=2))\n",
    "    plot!((1/total_budget)*expected_wealth_array,fillrange=L68, c=:deepskyblue1, alpha=0.75,label=\"\")\n",
    "    plot!((1/total_budget)*expected_wealth_array,fillrange=U68, c=:deepskyblue1, alpha=0.75, label=\"\")\n",
    "    \n",
    "    L95 = (1/total_budget)*(expected_wealth_array .- 1.96*std(simulated_wealth_array,dims=2))\n",
    "    U95 = (1/total_budget)*(expected_wealth_array .+ 1.96*std(simulated_wealth_array,dims=2))\n",
    "    plot!((1/total_budget)*expected_wealth_array,fillrange=L95, c=:deepskyblue1, alpha=0.40,label=\"\")\n",
    "    plot!((1/total_budget)*expected_wealth_array,fillrange=U95, c=:deepskyblue1, alpha=0.40, label=\"\")\n",
    "\n",
    "    L99 = (1/total_budget)*(expected_wealth_array .- 2.576*std(simulated_wealth_array,dims=2))\n",
    "    U99 = (1/total_budget)*(expected_wealth_array .+ 2.576*std(simulated_wealth_array,dims=2))\n",
    "    plot!((1/total_budget)*expected_wealth_array,fillrange=L99, c=:deepskyblue1, alpha=0.30,label=\"\")\n",
    "    plot!((1/total_budget)*expected_wealth_array,fillrange=U99, c=:deepskyblue1, alpha=0.30, label=\"\")\n",
    "    \n",
    "    plot!((1/expected_wealth_array[1]).*expected_wealth_array, ls=:dash, c=:blue, lw=3, label=\"Portfolio (expected)\")\n",
    "    plot!((1/actual_portfolio_performance_array[1,end]).*actual_portfolio_performance_array[:,end], lw=3, \n",
    "        c=:red, label=\"Portfolio (actual)\")\n",
    "\n",
    "    # plot the benchmark -\n",
    "    plot!((1/total_budget)*benchmark_wealth_array, lw=3, ls=:dot, c=:red, label=\"Benchmark (SPY ETF)\")\n",
    "\n",
    "    plot!(L68, c=:deepskyblue3, lw=2, label=\"\")\n",
    "    plot!(U68, c=:deepskyblue3, lw=2, label=\"\")\n",
    "    plot!(L95, c=:deepskyblue2, lw=2, label=\"\")\n",
    "    plot!(U95, c=:deepskyblue2, lw=2, label=\"\")\n",
    "    plot!(L99, c=:deepskyblue1, lw=2, label=\"\")\n",
    "    plot!(U99, c=:deepskyblue1, lw=2, label=\"\")\n",
    "    \n",
    "    \n",
    "    plot!(bg=\"gray95\", background_color_outside=\"white\", framestyle = :box, fg_legend = :transparent);\n",
    "    \n",
    "    xlabel!(\"Trading Day Index (2025)\", fontsize=18)\n",
    "    ylabel!(\"Scaled Wealth (USD)\", fontsize=18)\n",
    "    current()\n",
    "end"
   ]
  },
  {
   "cell_type": "code",
   "execution_count": 203,
   "id": "f8228403",
   "metadata": {},
   "outputs": [],
   "source": [
    "do_I_see_the_final_wealth_plot = true; # set to {true | false} if you see the final wealth plot (true = yes, false = no)."
   ]
  },
  {
   "cell_type": "markdown",
   "id": "88def7fc",
   "metadata": {},
   "source": [
    "___"
   ]
  },
  {
   "cell_type": "markdown",
   "id": "9048c51a",
   "metadata": {},
   "source": [
    "## Discussion Questions\n",
    "\n",
    "### Question 1: Portfolio Composition and the Efficient Frontier Trade-off\n",
    "Change the `index_to_view::Int` value to analyze three distinct portfolios along the efficient frontier: the minimum-variance portfolio (lowest risk), a medium-risk portfolio (approximately middle of the frontier), and the maximum-return portfolio (highest risk-return point).\n",
    "\n",
    "__Discuss:__ How does the composition of the portfolio change as you move from minimum variance to maximum return? Which assets become more or less prominent, and why might this happen based on the individual asset characteristics (hint: look at the expected returns in $\\hat{\\mathbf{\\mu}}$ and the variance terms on the diagonal of $\\hat{\\mathbf{\\Sigma}}_{r}$ for each asset)? What does this tell you about the trade-off between diversification and concentration as risk tolerance increases?"
   ]
  },
  {
   "cell_type": "markdown",
   "id": "7c8aed5a",
   "metadata": {},
   "source": [
    "Q1\n",
    "\n",
    "Low-risk, low-variance, and weakly correlated assets dominate early.\n",
    "\n",
    "Midpoint portfolios balance assets with good risk-adjusted returns.\n",
    "\n",
    "At the high-return end, weight shifts to a few high-μ but volatile assets.\n",
    "\n",
    "This shows the diversification–concentration trade-off: higher risk tolerance leads to less diversification and more exposure to high-return, high-risk assets."
   ]
  },
  {
   "cell_type": "code",
   "execution_count": 204,
   "id": "02b64fdb",
   "metadata": {},
   "outputs": [],
   "source": [
    "did_I_answer_DQ1 = true; # change this to {true | false} if you answered DQ1 (true = yes, false = no)\n"
   ]
  },
  {
   "cell_type": "markdown",
   "id": "906d39da",
   "metadata": {},
   "source": [
    "### Question 2: Out-of-Sample Performance and Model Limitations\n",
    "Compare the performance of your minimum-variance portfolio against the SPY ETF benchmark by analyzing the visualization from the final plot. Consider both the simulated (blue confidence bands) and actual (red line) performance trajectories.\n",
    "\n",
    "__Discuss:__ Did the minimum-variance portfolio outperform or underperform the SPY benchmark during the out-of-sample period? What does the relationship between the actual portfolio performance and the simulated confidence intervals tell you about the reliability of the historical parameter estimates ($\\hat{\\mu}$ and $\\hat{\\mathbf{\\Sigma}}_{r}$)? \n",
    "\n",
    "* If the actual performance fell outside the 99% confidence bands, what might this suggest about the limitations of using historical data to predict future portfolio behavior? Consider factors such as parameter estimation error, regime changes, or non-stationarity in the underlying asset dynamics."
   ]
  },
  {
   "cell_type": "markdown",
   "id": "8761f6a2",
   "metadata": {},
   "source": [
    "Q2: The actual portfolio (solid red) stayed mostly within the confidence bands, performing close to expectations but slightly below the SPY benchmark (dashed red) during strong upswings.\n",
    "This suggests the model captured general risk but underestimated bullish conditions.\n",
    "Deviations highlight limits of using historical μ and Σ — performance can vary due to market regime changes and estimation errors."
   ]
  },
  {
   "cell_type": "code",
   "execution_count": 205,
   "id": "047b9757",
   "metadata": {},
   "outputs": [],
   "source": [
    "did_I_answer_DQ2 = true; # change this to {true | false} if you answered DQ1 (true = yes, false = no)"
   ]
  },
  {
   "cell_type": "markdown",
   "id": "2d506954",
   "metadata": {},
   "source": [
    "___"
   ]
  },
  {
   "cell_type": "markdown",
   "id": "8de04ee8",
   "metadata": {},
   "source": [
    "## Summary\n",
    "In this example, we implemented a complete data-driven approach to modern portfolio theory, computing the efficient frontier for a portfolio of risky assets using historical market data and evaluating performance through simulation.\n",
    "\n",
    "> __Key Takeaways:__\n",
    "> * **Historical data provides empirical inputs for portfolio optimization, but with important limitations.** By computing sample means and covariance matrices from real price data, we obtain the statistical parameters needed for Markowitz optimization, though these estimates reflect past relationships that may not persist in the future—making out-of-sample testing crucial for validation.\n",
    ">\n",
    "> * **Markowitz optimization systematically balances expected return against portfolio risk.** The minimum-variance framework estimates optimal asset allocations that minimize portfolio variance for each target return level, and by plotting these optimal portfolios across different return targets, we visualize the efficient frontier—the boundary of achievable risk-return combinations showing how diversification can reduce risk without sacrificing expected return.\n",
    ">\n",
    "> * **Stochastic simulation enables robust testing of portfolio strategies under uncertainty.** Multi-asset geometric Brownian motion models generate correlated price trajectories that capture realistic market dynamics, allowing us to evaluate how minimum-variance portfolios perform on out-of-sample data compared to benchmarks like index funds, revealing the practical implications of optimization-based allocation decisions.\n",
    "\n",
    "This framework demonstrates how quantitative methods can guide portfolio construction decisions, though real-world implementation requires careful consideration of parameter estimation uncertainty, changing market conditions, and many other factors. But it is a start!\n",
    "___"
   ]
  },
  {
   "cell_type": "markdown",
   "id": "5bb73370",
   "metadata": {},
   "source": [
    "## Tests\n",
    "The code block below shows how we implemented the tests and what we are testing. In these tests, we check values in your notebook and give feedback on which items are correct, missing, etc."
   ]
  },
  {
   "cell_type": "code",
   "execution_count": 206,
   "id": "b4d02212",
   "metadata": {},
   "outputs": [
    {
     "name": "stdout",
     "output_type": "stream",
     "text": [
      "\u001b[0m\u001b[1mTest Summary:                                    | \u001b[22m\u001b[32m\u001b[1mPass  \u001b[22m\u001b[39m\u001b[36m\u001b[1mTotal  \u001b[22m\u001b[39m\u001b[0m\u001b[1mTime\u001b[22m\n",
      "CHEME 5660 PS3 Test Suite                        | \u001b[32m 289  \u001b[39m\u001b[36m  289  \u001b[39m\u001b[0m0.0s\n",
      "  Task 1: Portfolio Statistics                   | \u001b[32m  10  \u001b[39m\u001b[36m   10  \u001b[39m\u001b[0m0.0s\n",
      "  Task 2: Efficient Frontier Computation         | \u001b[32m  56  \u001b[39m\u001b[36m   56  \u001b[39m\u001b[0m0.0s\n",
      "  Task 3: Cholesky Factorization                 | \u001b[32m   4  \u001b[39m\u001b[36m    4  \u001b[39m\u001b[0m0.0s\n",
      "  Task 3: Portfolio Selection and Initial Prices | \u001b[32m   7  \u001b[39m\u001b[36m    7  \u001b[39m\u001b[0m0.0s\n",
      "  Task 3: Share Calculations                     | \u001b[32m   7  \u001b[39m\u001b[36m    7  \u001b[39m\u001b[0m0.0s\n",
      "  Task 3: Multi-Asset GBM Model                  | \u001b[32m   6  \u001b[39m\u001b[36m    6  \u001b[39m\u001b[0m0.0s\n",
      "  Task 3: Simulated Wealth Array                 | \u001b[32m   6  \u001b[39m\u001b[36m    6  \u001b[39m\u001b[0m0.0s\n",
      "  Task 3: Actual Portfolio Performance           | \u001b[32m 185  \u001b[39m\u001b[36m  185  \u001b[39m\u001b[0m0.0s\n",
      "  Task 3: Benchmark Wealth Array                 | \u001b[32m   3  \u001b[39m\u001b[36m    3  \u001b[39m\u001b[0m0.0s\n",
      "  Plot, Tables and DQs                           | \u001b[32m   5  \u001b[39m\u001b[36m    5  \u001b[39m\u001b[0m0.0s\n"
     ]
    }
   ],
   "source": [
    "@testset verbose = true \"CHEME 5660 PS3 Test Suite\" begin\n",
    "\n",
    "    # Task 1 and Task 2 Tests (10 tests) -\n",
    "    @testset \"Task 1: Portfolio Statistics\" begin\n",
    "\n",
    "        @test isdefined(Main, :my_list_of_tickers) # my_list_of_tickers is not defined\n",
    "        @test typeof(my_list_of_tickers) == Vector{String} # my_list_of_tickers should be a Vector{String}\n",
    "        @test length(my_list_of_tickers) >= 3 # Portfolio should contain at least 3 assets\n",
    "\n",
    "        @test isdefined(Main, :μ̂) # Expected return vector μ̂ is not defined\n",
    "        @test length(μ̂) == length(my_list_of_tickers) # μ̂ length should match number of tickers\n",
    "\n",
    "        @test isdefined(Main, :Σ̂ᵣ) # Covariance matrix Σ̂ᵣ is not defined\n",
    "        @test size(Σ̂ᵣ, 1) == size(Σ̂ᵣ, 2) # Σ̂ᵣ should be square\n",
    "        @test size(Σ̂ᵣ, 1) == length(my_list_of_tickers) # Σ̂ᵣ dimensions should match number of tickers\n",
    "        @test isapprox(Σ̂ᵣ, transpose(Σ̂ᵣ), atol=1e-10) # Σ̂ᵣ should be symmetric\n",
    "        @test all(eigvals(Σ̂ᵣ) .>= -1e-10) # Σ̂ᵣ should be positive semi-definite\n",
    "    end\n",
    "    \n",
    "    @testset \"Task 2: Efficient Frontier Computation\" begin\n",
    "\n",
    "        @test isdefined(Main, :problem_risk) # problem_risk is not defined\n",
    "        @test isdefined(Main, :minimum_desired_reward_array) # minimum_desired_reward_array is not defined\n",
    "        @test length(minimum_desired_reward_array) > 0 # minimum_desired_reward_array should not be empty\n",
    "\n",
    "        @test isdefined(Main, :efficient_frontier) # efficient_frontier dictionary is not defined\n",
    "        @test typeof(efficient_frontier) <: Dict # efficient_frontier should be a Dictionary\n",
    "        @test length(efficient_frontier) > 0 # efficient_frontier should contain at least one solution\n",
    "\n",
    "        @test isdefined(Main, :results_array) # results_array is not defined\n",
    "        @test size(results_array, 2) == length(my_list_of_tickers) + 2 # results_array should have M+2 columns\n",
    "\n",
    "        # Check that portfolio weights sum to approximately 1\n",
    "        for i in 1:size(results_array, 1)\n",
    "            weights_sum = sum(results_array[i, 3:end])\n",
    "            @test isapprox(weights_sum, 1.0, atol=1e-3) # Portfolio weights should sum to 1 (row $i)\n",
    "        end\n",
    "        \n",
    "        # Check that risk values are non-negative\n",
    "        @test all(results_array[:, 1] .>= 0) # All risk values should be non-negative\n",
    "    end\n",
    "    \n",
    "    # Task 3 Tests (20 tests) -\n",
    "    @testset \"Task 3: Cholesky Factorization\" begin\n",
    "        \n",
    "        @test isdefined(Main, :A) # Cholesky factor A is not defined\n",
    "        @test size(A) == size(Σ̂ᵣ) # A should have same dimensions as Σ̂ᵣ\n",
    "        @test isapprox(A * transpose(A), Σ̂ᵣ, atol=1e-6) # A*A' should equal Σ̂ᵣ\n",
    "        @test all(diag(A) .>= 0) # Diagonal elements of A should be non-negative\n",
    "    end\n",
    "    \n",
    "    @testset \"Task 3: Portfolio Selection and Initial Prices\" begin\n",
    "\n",
    "        @test isdefined(Main, :w) # Portfolio weights w is not defined\n",
    "        @test length(w) == length(my_list_of_tickers) # w length should match number of tickers\n",
    "        @test all(w .>= 0) # All weights should be non-negative\n",
    "        @test isapprox(sum(w), 1.0, atol=1e-3) # Portfolio weights should sum to 1\n",
    "\n",
    "        @test isdefined(Main, :Sₒ) # Initial prices Sₒ is not defined\n",
    "        @test length(Sₒ) == length(my_list_of_tickers) # Sₒ length should match number of tickers\n",
    "        @test all(Sₒ .> 0) # All initial prices should be positive\n",
    "    end\n",
    "    \n",
    "    @testset \"Task 3: Share Calculations\" begin\n",
    "\n",
    "        @test isdefined(Main, :Nₒ) # Initial shares Nₒ is not defined\n",
    "        @test length(Nₒ) == length(my_list_of_tickers) # Nₒ length should match number of tickers\n",
    "        @test all(Nₒ .>= 0) # All share quantities should be non-negative\n",
    "\n",
    "        # Verify initial investment calculation\n",
    "        total_value = sum(Nₒ .* Sₒ)\n",
    "        @test isapprox(total_value, total_initial_investment, atol=1e-2) # Total initial investment should match budget\n",
    "        \n",
    "        # Check that shares align with weights\n",
    "        for i in eachindex(Nₒ)\n",
    "            expected_shares = (w[i] * total_initial_investment) / Sₒ[i]\n",
    "            @test isapprox(Nₒ[i], expected_shares, atol=1e-6) # Share calculation for asset $i should be correct\n",
    "        end\n",
    "    end\n",
    "    \n",
    "    @testset \"Task 3: Multi-Asset GBM Model\" begin\n",
    "\n",
    "        @test isdefined(Main, :multiasset_model) # GBM model is not defined\n",
    "        @test isdefined(Main, :simulation_dictionary) # simulation_dictionary is not defined\n",
    "        @test typeof(simulation_dictionary) <: Dict # simulation_dictionary should be a Dictionary\n",
    "        @test length(simulation_dictionary) > 0 # simulation_dictionary should contain at least one path\n",
    "\n",
    "        # Check structure of simulation data\n",
    "        first_sim = simulation_dictionary[1]\n",
    "        @test size(first_sim, 2) == length(my_list_of_tickers) + 1 # Each simulation should have time + M assets\n",
    "        @test all(first_sim[:, 2:end] .> 0) # All simulated prices should be positive\n",
    "    end\n",
    "    \n",
    "    @testset \"Task 3: Simulated Wealth Array\" begin\n",
    "\n",
    "        @test isdefined(Main, :simulated_wealth_array) # simulated_wealth_array is not defined\n",
    "        @test size(simulated_wealth_array, 1) > 0 # simulated_wealth_array should have rows\n",
    "        @test size(simulated_wealth_array, 2) > 0 # simulated_wealth_array should have columns (paths)\n",
    "        @test all(simulated_wealth_array .> 0) # All simulated wealth values should be positive\n",
    "\n",
    "        # Check initial wealth\n",
    "        initial_wealth = simulated_wealth_array[1, :]\n",
    "        @test all(isapprox.(initial_wealth, total_initial_investment, atol=1e-2)) # Initial wealth should match investment\n",
    "        \n",
    "        # Check that wealth varies across paths\n",
    "        final_wealth = simulated_wealth_array[end, :]\n",
    "        @test std(final_wealth) > 0 # Final wealth should vary across simulation paths\n",
    "    end\n",
    "    \n",
    "    @testset \"Task 3: Actual Portfolio Performance\" begin\n",
    "\n",
    "        @test isdefined(Main, :actual_portfolio_performance_array) # actual_portfolio_performance_array is not defined\n",
    "        @test size(actual_portfolio_performance_array, 1) > 0 # actual_portfolio_performance_array should have rows\n",
    "        @test size(actual_portfolio_performance_array, 2) == length(my_list_of_tickers) + 1 # Should have M+1 columns\n",
    "\n",
    "        # Verify total column is sum of individual assets\n",
    "        for i in 1:size(actual_portfolio_performance_array, 1)\n",
    "            calculated_total = sum(actual_portfolio_performance_array[i, 1:end-1])\n",
    "            @test isapprox(actual_portfolio_performance_array[i, end], calculated_total, atol=1e-6) # total should equal sum of assets (row $i)\n",
    "        end\n",
    "    end\n",
    "    \n",
    "    @testset \"Task 3: Benchmark Wealth Array\" begin\n",
    "\n",
    "        @test isdefined(Main, :benchmark_wealth_array) # benchmark_wealth_array is not defined\n",
    "        @test size(benchmark_wealth_array, 1) > 0 # benchmark_wealth_array should have rows\n",
    "        @test all(benchmark_wealth_array .> 0) # All benchmark wealth values should be positive\n",
    "    end\n",
    "\n",
    "    @testset \"Plot, Tables and DQs\" begin\n",
    "        @test do_I_see_minvar_plot == true # Did you see the minvar plot?\n",
    "        @test do_I_see_the_ticker_setup_table == true # Did you see the ticker setup table?\n",
    "        @test do_I_see_the_final_wealth_plot == true # Did you see the final wealth plot?\n",
    "        @test did_I_answer_DQ1 == true # Did you answer DQ1?\n",
    "        @test did_I_answer_DQ2 == true # Did you answer DQ2?\n",
    "    end\n",
    "end;"
   ]
  },
  {
   "cell_type": "markdown",
   "id": "88275cd4-1b38-4bbc-9880-b532360e6dd9",
   "metadata": {},
   "source": [
    "## Disclaimer and Risks\n",
    "\n",
    "__This content is offered solely for training and informational purposes__. No offer or solicitation to buy or sell securities or derivative products or any investment or trading advice or strategy is made, given, or endorsed by the teaching team.\n",
    "\n",
    "__Trading involves risk__. Carefully review your financial situation before investing in securities, futures contracts, options, or commodity interests. Past performance, whether actual or indicated by historical tests of strategies, is no guarantee of future performance or success. Trading is generally inappropriate for someone with limited resources, investment or trading experience, or a low-risk tolerance. Only risk capital that is not required for living expenses.\n",
    "\n",
    "__You are fully responsible for any investment or trading decisions you make__. Such decisions should be based solely on evaluating your financial circumstances, investment or trading objectives, risk tolerance, and liquidity needs."
   ]
  }
 ],
 "metadata": {
  "kernelspec": {
   "display_name": "Julia 1.11.6",
   "language": "julia",
   "name": "julia-1.11"
  },
  "language_info": {
   "file_extension": ".jl",
   "mimetype": "application/julia",
   "name": "julia",
   "version": "1.11.6"
  }
 },
 "nbformat": 4,
 "nbformat_minor": 5
}
